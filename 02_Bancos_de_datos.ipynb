{
  "nbformat": 4,
  "nbformat_minor": 0,
  "metadata": {
    "colab": {
      "provenance": [],
      "toc_visible": true,
      "collapsed_sections": [
        "3m_bNBcyeh62",
        "KPX-idWMGNg-",
        "aPfyqodLc608",
        "rD5yCZzGkmOX",
        "yyooc9-K81IP",
        "_AO5xmEG-5sE",
        "cgQRrIxx8MDF",
        "lPGjlzka8fOL",
        "MTk6Et9-kvI5",
        "eY145azJW0-s",
        "oGLKRXKl1A7U",
        "9BkbDXsiYpn1",
        "OgU2lzt81VLT",
        "JDnCzAtMcKQ4",
        "f5PvXAsidMBR",
        "dfuH8Gkq0x61",
        "kED7ggDS1GPF",
        "kqppEi5U-K8N",
        "q4ggMsd-0ZRA",
        "UyHNaWgG71nX",
        "qCsvozuIGjmW",
        "LcmYAEdy1G97"
      ]
    },
    "kernelspec": {
      "name": "python3",
      "display_name": "Python 3"
    },
    "language_info": {
      "name": "python"
    },
    "accelerator": "GPU"
  },
  "cells": [
    {
      "cell_type": "markdown",
      "source": [
        "<small><img src=https://raw.githubusercontent.com/ia4legos/MachineLearning/main/images/IASAC-UMH.png width=\"450\" height=\"200\"></small>"
      ],
      "metadata": {
        "id": "8RFtY2TAL3UB"
      }
    },
    {
      "cell_type": "markdown",
      "source": [
        "# <font color=\"steelblue\">Bancos de datos</font>\n",
        "\n",
        "**Autoría**: \n",
        "\n",
        "*   Fernando Borrás (f.borras@umh.es)\n",
        "*   Federico Botella (federico@umh.es)\n",
        "*   Inés Hernández (ines.hernandezp@umh.es)\n",
        "*   Mª Asunción Martínez Mayoral (asun.mayoral@umh.es)\n",
        "*   Josep Moltó (j.molto@umh.es)\n",
        "*   Javier Morales (j.morales@umh.es) \n",
        "\n",
        "Departamento de Estadística, Matemáticas e Informática. \n",
        "\n",
        "Universidad Miguel Hernández de Elche. \n",
        "\n",
        "\n",
        "**Financiación**: El material que aparece a continuación se ha desarrollado dentro del marco del proyecto UNIDIGITAL- IASAC.\n",
        "\n",
        "**Fecha última edición**: 24/06/2022\n",
        "\n",
        "**Licencia**: <small><a rel=\"license\" href=\"http://creativecommons.org/licenses/by-sa/4.0/\"><img alt=\"Creative Commons License\" style=\"border-width:0\" src=\"https://i.creativecommons.org/l/by-sa/4.0/88x31.png\" /></a><br /></small>\n",
        "\n",
        "No olvides hacer una copia si deseas utilizarlo. Al usar estos contenidos, acepta nuestros términos de uso y nuestra política de privacidad. \n"
      ],
      "metadata": {
        "id": "-7whhErFzY9J"
      }
    },
    {
      "cell_type": "markdown",
      "source": [
        "# <font color=\"steelblue\">Introducción</font>\n",
        "\n",
        "En este cuaderno se detallan brevemente las bases de datos que se van a usar a lo largo de este curso. Se realiza una breve descripción de cada una, se identifica el objetivo principal que se persigue y se indica el número de muestras y variables contenidas en ellas, así como si existen valores perdidos. En todos los casos se proporciona un enlace del fichero raw de github para la carga del banco de datos original (tanto en python como en R), y en algunos de los casos se proporciona también un enlace a los datos preprocesados.\n",
        "\n"
      ],
      "metadata": {
        "id": "Wt99G2Jk5jX4"
      }
    },
    {
      "cell_type": "markdown",
      "source": [
        "Todas las bases de datos son de acceso público, por lo que se puede acceder a estas de manera libre y gratuita. "
      ],
      "metadata": {
        "id": "3Cb9qvrbEY3V"
      }
    },
    {
      "cell_type": "markdown",
      "source": [
        "# <font color=\"steelblue\">Abalone</font>"
      ],
      "metadata": {
        "id": "3m_bNBcyeh62"
      }
    },
    {
      "cell_type": "markdown",
      "source": [
        "En este conjunto de datos se recoge información sobre los abulones, de la familia de los moluscos. \n",
        "\n",
        "Se está interesado en medir su desarrollo, que viene determinado principalmente por su desarrollo sexual. Concretamente se consideran tres estados de desarrollo asociados con la variable `Sex`: `M` (machos), `F` (hembras), e `I` (infantil o sin desarrollo sexual). Para clasificar cada sujeto se utiliza el conjunto de variables que son de tipo numérico.\n",
        "\n",
        "En otro tipo de modelos la variable de interés es la edad del abulón (que está muy relacionada con su desarrollo sexual). La edad del abulón se determina cortando la cáscara a través del cono, tintándola y contando el número de anillos mediante un microscopio (una tarea tediosa que consume mucho tiempo).\n",
        "\n",
        "**Características del banco de datos**:\n",
        "\n",
        "* Variable respuesta: `Sex`\n",
        "* Tipo de variable respuesta: categórica\n",
        "* Tipo de problema que se quiere resolver: clasificación\n",
        "* Valores perdidos: no\n",
        "* Número de registros: 4177\n",
        "* Número de variables: 8\n",
        "\n",
        "\n",
        "**Variables contenidas**:\n",
        "* **Sex**: sexo (M = masculino, F = femenino e I = intantil)\n",
        "* **Length**: longitud de la carcasa más larga (en mm)\n",
        "* **Diameter**: diámetro perpendicular a la longitud (en mm)\n",
        "* **Height**: altura con carne en cáscara (en mm)\n",
        "* **Whole weight**: peso completo (en gramos)\n",
        "* **Shucked weight**: peso de la carne (en gramos)\n",
        "* **Viscera weight**: peso de las vísceras después del sangrado (en gramos)\n",
        "* **Shell weight**: peso de la cáscara después de secarse (en gramos)\n",
        "* **Rings**: anillos (+1,5 da la edad en años)\n",
        "\n",
        "\n",
        "\n",
        "**Referencias bibliográficas**:\n",
        "* Kaggle: [enlace](https://www.kaggle.com/datasets/rodolfomendes/abalone-dataset)\n",
        "\n",
        "\n",
        "**Ficheros carga**:\n",
        "\n",
        "* Original: [enlace](https://raw.githubusercontent.com/ia4legos/MachineLearning/main/data/abalone.csv)\n"
      ],
      "metadata": {
        "id": "C6YY5wLveklt"
      }
    },
    {
      "cell_type": "markdown",
      "source": [
        "**Cuadernos en los que se analiza**:\n",
        "* [80 - Modelos de regresión logística multinomial](https://colab.research.google.com/drive/1BXX6DVKlO6qxxsiaqQtsbo34Zptd7ANS?authuser=4)\n",
        "* [100 - Clasificador Naïve Bayes para múltiples grupos](https://colab.research.google.com/drive/1r-OJ_MHjji9p5fl98A5cwGuYWVR5kDM-?authuser=4)\n",
        "* [110 - Algoritmo K-NN para problemas de clasificación y regresión](https://colab.research.google.com/drive/1_4DAPuMmgVIbENdfr2_rcBebAgbQFFxb?authuser=4)\n",
        "* [120 - Introducción a las máquinas de vector soporte](https://colab.research.google.com/drive/1z57UT4eT9G4uYbqwfeTSaHQJiZ2fA16Q?authuser=4)\n",
        "* [130 - Máquinas de vector soporte no lineales](https://colab.research.google.com/drive/14p4gMOc43BPSXncWl2Kyr0JSppsqTnSc?authuser=4)\n",
        "* [140 - Árboles de decisión para problemas de clasificación](https://colab.research.google.com/drive/1-Uu2nqUeHn3bYz0yCHvqUQbdozMix0qz?authuser=4)\n",
        "* [170 - Bosques aleatorios (Random Forest)](https://colab.research.google.com/drive/19TBrsm1G4KmUS98Qzeo8sCDTiUuoRULz?authuser=4)\n",
        "* [220 - Análisis Discriminante](https://colab.research.google.com/drive/1gfk6YMIykY6XiU7JmkyNogmUVdE5u5rM?authuser=4)\n",
        "* [230 - Modelos avanzados de análisis discriminante](https://colab.research.google.com/drive/1vHXF_jhIh5qNmp7BypmIZHJKwqAKNJJ3?authuser=4)"
      ],
      "metadata": {
        "id": "iGf4spLZagms"
      }
    },
    {
      "cell_type": "markdown",
      "source": [
        "# <font color=\"steelblue\">Breast Cancer Wisconsin</font>"
      ],
      "metadata": {
        "id": "KPX-idWMGNg-"
      }
    },
    {
      "cell_type": "markdown",
      "source": [
        "En esta base de datos se recoge información sobre los cánceres de mama en la ciudad de Wisconsin. Las características de la base de datos se calculan a partir de una imagen digitalizada de un aspiración de aguja fina (FNA) de una masa mamaria. Describen las características de los núcleos celulares presentes en la imagen y el objetivo que se persigue es clasificar un tumor como benigno o maligno en función de las variables predictoras.\n",
        "\n",
        "\n",
        "**Características del banco de datos**:\n",
        "\n",
        "* Variable respuesta: `diagnosis`\n",
        "* Tipo de variable respuesta: categórica (binaria)\n",
        "* Tipo de problema que se quiere resolver: clasificación\n",
        "* Valores perdidos: no\n",
        "* Número de registros: 569\n",
        "* Número de variables: 32\n",
        "\n",
        "\n",
        "**Variables contenidas**:\n",
        "\n",
        "* **id**: identificador.\n",
        "* **diagnosis**: diagnóstico de tejidos mamarios (M = maligno, B = benigno)\n",
        "* **radius_mean**: media de las distancias del centro a los puntos del perímetro.\n",
        "* **texture_mean**: desviación estándar de los valores de la escala de grises.\n",
        "* **perimeter_mean**:tamaño medio del tumor central.\n",
        "* **area_mean**:\n",
        "* **smoothness_mean**: media de variación local en longitudes de radio\n",
        "* **compactness_mean**: (media de perímetro)^2 / área - 1,0\n",
        "* **concavity_mean**: media de gravedad de las porciones cóncavas del contorno.\n",
        "* **concave points_mean**: media para el número de porciones cóncavas del contorno.\n",
        "* **symmetry_mean**:\n",
        "* **fractal_dimension_mean**: \n",
        "media para \"aproximación de la costa\" - 1.\n",
        "* **radius_se**: error estándar para la media de distancias desde el centro hasta los puntos en el perímetro.\n",
        "* **texture_se**: error estándar para la desviación estándar de los valores de escala de grises.\n",
        "* **perimeter_se**:\n",
        "* **area_se**:\n",
        "* **smoothness_se**: error estándar para la variación local en las longitudes del radio.\n",
        "* **compactness_se**: (error estándar para perímetro)^2 / área - 1,0.\n",
        "* **concavity_se**: error estándar para la gravedad de las partes cóncavas del contorno.\n",
        "* **concave points_se**: error estándar para el número de porciones cóncavas del contorno.\n",
        "* **symmetry_se**:\n",
        "* **fractal_dimension_se**: error estándar para \"aproximación de la costa\" - 1.\n",
        "* **radius_worst**: \"peor\" o mayor valor medio para la media de distancias desde el centro hasta los puntos del perímetro (en cm).\n",
        "* **texture_worst**: \"peor\" o mayor valor medio para la desviación estándar de los valores de escala de grises.\n",
        "* **perimeter_worst**:\n",
        "* **area_worst**:\n",
        "* **smoothness_worst**: \"peor\" o mayor valor medio para la variación local en longitudes de radio.\n",
        "* **compactness_worst**: \"peor\" o mayor valor medio para el perímetro^2 / área - 1,0.\n",
        "* **concavity_worst**: \"peor\" o mayor valor medio para la gravedad de las porciones cóncavas del contorno.\n",
        "* **concave points_worst**: \"peor\" o mayor valor medio para el número de porciones cóncavas del contorno.\n",
        "* **symmetry_worst**:\n",
        "* **fractal_dimension_worst**: \"peor\" o mayor valor medio para \"aproximación de la costa\" - 1.\n",
        "\n",
        "\n",
        "**Referencias bibliográficas**:\n",
        "* Kaggle: [enlace](https://www.kaggle.com/datasets/uciml/breast-cancer-wisconsin-data)\n",
        "\n",
        "\n",
        "**Ficheros carga**:\n",
        "\n",
        "* Original: [enlace](https://raw.githubusercontent.com/ia4legos/MachineLearning/main/data/cancer.csv)\n",
        "* Preprocesado: [enlace](https://raw.githubusercontent.com/ia4legos/MachineLearning/main/data/cancer_clean.csv)"
      ],
      "metadata": {
        "id": "QYgKyytoGYct"
      }
    },
    {
      "cell_type": "markdown",
      "source": [
        "**Cuadernos en los que se analiza**:\n",
        "* [90 - Clasificador Naïve Bayes para dos grupos](https://colab.research.google.com/drive/1CPffo-FW9r6clHW09DxI5u2kYqrg10e0?authuser=4)\n",
        "* [110 - Algoritmo K-NN para problemas de clasificación y regresión](https://colab.research.google.com/drive/1_4DAPuMmgVIbENdfr2_rcBebAgbQFFxb?authuser=4)\n",
        "* [120 - Introducción a las máquinas de vector soporte](https://colab.research.google.com/drive/1z57UT4eT9G4uYbqwfeTSaHQJiZ2fA16Q?authuser=4)\n",
        "* [180 - Algoritmos de Boosting para clasificación: AdaBoost, Gradient Boosting, XGBoost, y LigthGBM](https://colab.research.google.com/drive/14OKTz86WlOTWIJYAYSAq1u83EnFIg8YX?authuser=4#scrollTo=vSKYy5WEB8so)\n",
        "* [- Aplicaciones conjuntas de técnicas no supervisadas](https://colab.research.google.com/drive/1KXavsD2E8_5bL0tWYvoMAF4FFfNWgaJJ?authuser=4)"
      ],
      "metadata": {
        "id": "2j3i8oY5anqi"
      }
    },
    {
      "cell_type": "markdown",
      "source": [
        "# <font color=\"steelblue\">China</font>"
      ],
      "metadata": {
        "id": "oSBzAjvPLJvv"
      }
    },
    {
      "cell_type": "markdown",
      "source": [
        "Contiene los píxeles de una imagen de un templo chino. La obtenemos del repositorio de scikit-learn.\n",
        "\n",
        "\n",
        "**Características del banco de datos**:\n",
        "\n",
        "* Espacio: tridimensional\n",
        "* Dimensiones: (427, 640, 3)\n",
        "* Tipo de problema que se quiere resolver: agrupación\n",
        "* Valores perdidos: no\n",
        "\n",
        "**Ficheros carga**:\n",
        "\n",
        "* El banco de datos se puede cargar directamente desde scikit-learn (`sklearn.datasets.load_sample_image`)."
      ],
      "metadata": {
        "id": "lRsdDFiMe7LC"
      }
    },
    {
      "cell_type": "markdown",
      "source": [
        "\n",
        "**Cuadernos en los que se analiza**:\n",
        "* [250-Métodos avanzados de escalado multidimensional](https://colab.research.google.com/drive/18VbkDku0bf33dqNov-PQtZxg95cBL1QQ?authuser=4)\n",
        "* [Modelos de agrupación: Algoritmos de partición](https://colab.research.google.com/drive/15dIMPEiAesEwljEC2mgKhRBRwXlbTCdP?authuser=4)\n"
      ],
      "metadata": {
        "id": "8EvyRnhZLCLq"
      }
    },
    {
      "cell_type": "markdown",
      "source": [
        "# <font color=\"steelblue\">Diabetes</font>"
      ],
      "metadata": {
        "id": "aPfyqodLc608"
      }
    },
    {
      "cell_type": "markdown",
      "source": [
        "En un estudio sobre la diabetes se obtuvieron diez variables basales, edad, sexo, índice de masa corporal, presión arterial media y seis mediciones de suero sanguíneo para 442 pacientes diabéticos, así como la respuesta de interés, una medida cuantitativa de la progresión de la enfermedad un año después de la línea de base. Cada una de estas 10 variables predictoras se ha centrado en la media y se ha escalado por la desviación estándar multiplicada por la raíz cuadrada de n_muestras (es decir, la suma de los cuadrados de cada columna suma 1).\n",
        "\n",
        "**Características del banco de datos**:\n",
        "\n",
        "* Variable respuesta: `disease_progression`\n",
        "* Tipo de variable respuesta: numérica\n",
        "* Tipo de problema que se quiere resolver: regresión\n",
        "* Número de registros: 442\n",
        "* Número de variables: 11\n",
        "\n",
        "\n",
        "**Variables contenidas**:\n",
        "* **age**: edad (en años)\n",
        "* **sex**: sexo\n",
        "* **bmi**: índice de masa corporal\n",
        "* **bp**: promedio de la presión sanguínea\n",
        "* **s1 tc**: colesterol sérico total\n",
        "* **s2 ldl**: lipoproteínas de baja densidad\n",
        "* **s3 hdl**: lipoproteínas de alta densidad\n",
        "* **s4 tch**: colesterol total\n",
        "* **s5 ltg**: registro del nivel de triglicéridos en suero\n",
        "* **s6 glu**: nivel de azúcar en sangre\n",
        "\n",
        "\n",
        "**Referencias bibliográficas**:\n",
        "\n",
        "* Bradley Efron, Trevor Hastie, Iain Johnstone and Robert Tibshirani (2004) “Least Angle Regression,” Annals of Statistics (with discussion), 407-499.\n",
        "\n",
        "\n",
        "**Ficheros carga**:\n",
        "\n",
        "* El banco de datos se puede cargar directamente desde scikit-learn (`sklearn.datasets.load_diabetes`)."
      ],
      "metadata": {
        "id": "wgYjYStRdG3Q"
      }
    },
    {
      "cell_type": "markdown",
      "source": [
        "**Cuadernos en los que se analiza**:\n",
        "* [110 - Algoritmo K-NN para problemas de clasificación y regresión](https://colab.research.google.com/drive/1_4DAPuMmgVIbENdfr2_rcBebAgbQFFxb?authuser=4)\n",
        "* [120 - Introducción a las máquinas de vector soporte](https://colab.research.google.com/drive/1z57UT4eT9G4uYbqwfeTSaHQJiZ2fA16Q?authuser=4)\n",
        "* [130 - Máquinas de vector soporte no lineales](https://colab.research.google.com/drive/14p4gMOc43BPSXncWl2Kyr0JSppsqTnSc?authuser=4)\n",
        "* [150 - Árboles de decisión para problemas de regresión](https://colab.research.google.com/drive/10sXsfO1DjF-45YL9zXn_xb4YrlJYBTg7?authuser=4)\n",
        "* [170 - Bosques aleatorios (Random Forest)](https://colab.research.google.com/drive/19TBrsm1G4KmUS98Qzeo8sCDTiUuoRULz?authuser=4)"
      ],
      "metadata": {
        "id": "D_HQqlbiaiJn"
      }
    },
    {
      "cell_type": "markdown",
      "source": [
        "# <font color=\"steelblue\">Digits</font>"
      ],
      "metadata": {
        "id": "rD5yCZzGkmOX"
      }
    },
    {
      "cell_type": "markdown",
      "source": [
        "El conjunto de datos contiene imágenes de dígitos escritos a mano: 10 clases donde cada clase se refiere a un dígito (del 0 al 9). Los programas de preprocesamiento puestos a disposición por NIST se utilizaron para extraer mapas de bits normalizados de dígitos escritos a mano de un formulario preimpreso, de modo que se almacena la información de imágenes de 8x8 píxeles en el rango [0,16]. El objetivo que se persigue es clasificar el dígito escrito según la imagen obtenida.\n",
        "\n",
        "\n",
        "**Características del banco de datos**:\n",
        "\n",
        "* Variable respuesta: `digits.target` \n",
        "* Tipo de variable respuesta: numérica\n",
        "* Tipo de problema que se quiere resolver: clasificación\n",
        "* Valores perdidos: no\n",
        "* Número de registros: 1797\n",
        "* Número de variables: 64\n",
        "\n",
        "\n",
        "Consultar https://scikit-learn.org/stable/datasets/toy_dataset.html#digits-dataset\n",
        "\n",
        "\n",
        "**Referencias bibliográficas**:\n",
        "\n",
        "* C. Kaynak (1995) Methods of Combining Multiple Classifiers and Their Applications to Handwritten Digit Recognition, MSc Thesis, Institute of Graduate Studies in Science and Engineering, Bogazici University.\n",
        "[Web Link]\n",
        "\n",
        "* E. Alpaydin, C. Kaynak (1998) Cascading Classifiers, Kybernetika. [Web Link]\n",
        "[Web Link]\n",
        "\n",
        "**Ficheros carga**:\n",
        "\n",
        "* El banco de datos se puede cargar directamente desde scikit-learn (`sklearn.datasets.load_digits`).\n"
      ],
      "metadata": {
        "id": "3SqbWhswkodb"
      }
    },
    {
      "cell_type": "markdown",
      "source": [
        "**Cuadernos en los que se analiza**:\n",
        "* [100 - Clasificador Naïve Bayes para múltiples grupos](https://colab.research.google.com/drive/1r-OJ_MHjji9p5fl98A5cwGuYWVR5kDM-?authuser=4)\n",
        "* [140 - Árboles de decisión para problemas de clasificación](https://colab.research.google.com/drive/1-Uu2nqUeHn3bYz0yCHvqUQbdozMix0qz?authuser=4)\n",
        "* [170 - Bosques aleatorios (Random Forest)](https://colab.research.google.com/drive/19TBrsm1G4KmUS98Qzeo8sCDTiUuoRULz?authuser=4)\n",
        "* [250-Métodos avanzados de escalado multidimensional](https://colab.research.google.com/drive/18VbkDku0bf33dqNov-PQtZxg95cBL1QQ?authuser=4)\n",
        "* [Modelos de agrupación: Algoritmos de partición](https://colab.research.google.com/drive/15dIMPEiAesEwljEC2mgKhRBRwXlbTCdP?authuser=4)"
      ],
      "metadata": {
        "id": "_QmrHIHVajKq"
      }
    },
    {
      "cell_type": "markdown",
      "source": [
        "# <font color=\"steelblue\">Electricity</font>"
      ],
      "metadata": {
        "id": "yyooc9-K81IP"
      }
    },
    {
      "cell_type": "markdown",
      "source": [
        "Una central eléctrica de ciclo combinado (CCPP) está compuesta por turbinas de gas (GT), turbinas de vapor (ST) y generadores de vapor de recuperación de calor. En una CCPP, la electricidad es generada por turbinas de gas y vapor, que se combinan en un ciclo, y se transfiere de una turbina a otra. Mientras que el Vacío se recolecta y tiene efecto sobre la Turbina de Vapor, las otras tres variables ambientales afectan el desempeño del GT. Este conjunto de de datos recogidos se ha recogido de una central eléctrica de ciclo combinado a lo largo de 6 años (2006-2011), cuando la central eléctrica estaba configurada para funcionar a plena carga. Las características consisten en variables ambientales promedio por hora Temperatura (`AT`), Presión ambiental (`AP`), Humedad relativa (`RH`) y Vacío de escape (`V`) para predecir la producción de energía eléctrica neta por hora (`PE`) de la planta.\n",
        "\n",
        "\n",
        "\n",
        "**Características del banco de datos**:\n",
        "\n",
        "* Variable respuesta: `PE`\n",
        "* Tipo de variable respuesta: numérica\n",
        "* Tipo de problema que se quiere resolver: regresión\n",
        "* Valores perdidos: no\n",
        "* Número de registros: 9568\n",
        "* Número de variables: 5\n",
        "\n",
        "\n",
        "**Variables contenidas**:\n",
        "Se recogen la promedios por hora de:\n",
        "* **AT**: temperatura (en grados centígrados)\n",
        "* **V**: vacío de escape (en cm Hg)\n",
        "* **AP**: presión ambiental (en milibares)\n",
        "* **RH**: humedad relativa (en %)\n",
        "* **PE**: producción de energía eléctrica neta (en MW)\n",
        "\n",
        "\n",
        "**Referencias bibliográficas**:\n",
        "\n",
        "* Pınar Tüfekci, Prediction of full load electrical power output of a base load operated combined cycle power plant using machine learning methods, International Journal of Electrical Power & Energy Systems, Volume 60, September 2014, Pages 126-140, ISSN 0142-0615.\n",
        "\n",
        "* Heysem Kaya, Pınar Tüfekci , Sadık Fikret Gürgen: Local and Global Learning Methods for Predicting Power of a Combined Gas & Steam Turbine, Proceedings of the International Conference on Emerging Trends in Computer and Electronics Engineering ICETCEE 2012, pp. 13-18 (Mar. 2012, Dubai).\n",
        "\n",
        "* UCi Machine learning repository: https://archive.ics.uci.edu/ml/datasets/combined+cycle+power+plant\n",
        "\n",
        "\n",
        "**Ficheros carga**:\n",
        "\n",
        "* Original: [enlace](https://raw.githubusercontent.com/ia4legos/MachineLearning/main/data/mult_linear_reg.csv)"
      ],
      "metadata": {
        "id": "jUfEPvL88yu5"
      }
    },
    {
      "cell_type": "markdown",
      "source": [
        "**Cuadernos en los que se analiza**:\n",
        "* [60 - Modelos lineales de regresión para respuesta cuantitativa II](https://colab.research.google.com/drive/1OJ9UFpnlQr0Xfjmeszxs3C3m2kNga_Ru?authuser=4)"
      ],
      "metadata": {
        "id": "s-HBgljvadkJ"
      }
    },
    {
      "cell_type": "markdown",
      "source": [
        "# <font color=\"steelblue\">Google reviews</font>"
      ],
      "metadata": {
        "id": "_AO5xmEG-5sE"
      }
    },
    {
      "cell_type": "markdown",
      "source": [
        "Este conjunto de datos se obtiene a partir de las valoraciones de los usuarios en Google. Se tienen en cuenta las opiniones sobre atracciones de 24 categorías de toda Europa. Las valoraciones de los usuarios de Google van de 1 a 5 y se calcula la valoración media de los usuarios por categoría, con el objetivo de agrupar los diferentes individuos.\n",
        "\n",
        "**Características del banco de datos**:\n",
        "* Tipo de problema que se quiere resolver: agrupación\n",
        "* Valores perdidos: no\n",
        "* Número de registros: 5456\n",
        "* Número de variables: 24\n",
        "\n",
        "**Variables contenidas**:\n",
        "* **Atributo 1** : ID de usuario único \n",
        "* **Atributo 2** : Valoraciones medias de iglesias \n",
        "* **Atributo 3** : Valoraciones medias de complejos turísticos \n",
        "* **Atributo 4** : Valoraciones medias de playas \n",
        "* **Atributo 5** : Valoraciones medias de parques \n",
        "* **Atributo 6** : Valoraciones medias de teatros \n",
        "* **Atributo 7** : Valoraciones medias de museos \n",
        "* **Atributo 8** : Valoraciones medias de centros comerciales \n",
        "* **Atributo 9** : Valoraciones medias de zoológicos \n",
        "* **Atributo 10** : Valoraciones medias de restaurantes \n",
        "* **Atributo 11** : Valoración media de bares \n",
        "* **Atributo 12** : Valoraciones medias sobre servicios locales \n",
        "* **Atributo 13** : Valoraciones medias sobre hamburgueserías/pizzerías\n",
        "* **Atributo 14** : Valoraciones medias sobre hoteles/otros alojamientos \n",
        "* **Atributo 15** : Valoración media de zumerías \n",
        "* **Atributo 16** : Valoraciones medias sobre galerías de arte \n",
        "* **Atributo 17** : Valoraciones medias sobre discotecas \n",
        "* **Atributo 18** : Valoración media de piscinas \n",
        "* **Atributo 19** : Valoración media de gimnasios \n",
        "* **Atributo 20** : Valoración media en panaderías \n",
        "* **Atributo 21** : Valoración media en belleza y spas \n",
        "* **Atributo 22** : Valoración media de cafeterías \n",
        "* **Atributo 23** : Valoración media de miradores \n",
        "* **Atributo 24** : Valoración media de monumentos \n",
        "\n",
        "\n",
        "**Referencias bibliográficas**:\n",
        "\n",
        "* Renjith, Shini, A. Sreekumar, and M. Jathavedan. 2018. â€œEvaluation of Partitioning Clustering Algorithms for Processing Social Media Data in Tourism Domain. In 2018 IEEE Recent Advances in Intelligent Computational Systems (RAICS), 127 31. IEEE.\n",
        "\n",
        "**Ficheros carga**:\n",
        "\n",
        "* Original: [enlace]('https://raw.githubusercontent.com/ia4legos/MachineLearning/main/data/google_review_ratings.csv')"
      ],
      "metadata": {
        "id": "s4-cuK0u_HOF"
      }
    },
    {
      "cell_type": "markdown",
      "source": [
        "**Cuadernos en los que se analiza**:\n",
        "* [Modelos de agrupación: Introducción y Clusters jerárquicos](https://colab.research.google.com/drive/1M24t7ZQoEtWkMMkJJFZKq_WO5ZluySy0?authuser=4)"
      ],
      "metadata": {
        "id": "_WXnLYUKGp58"
      }
    },
    {
      "cell_type": "markdown",
      "source": [
        "# <font color=\"steelblue\">Housing</font>"
      ],
      "metadata": {
        "id": "cgQRrIxx8MDF"
      }
    },
    {
      "cell_type": "markdown",
      "source": [
        "El conjunto de datos de viviendas de Boston (`Housing`) contiene información recopilada por el Servicio del Censo de los EE. UU. sobre viviendas en el área de Boston MA. El preprocesado para este conjunto de datos se centra en la detección e imputación de valores perdidos. Como objetivo que se persigue predecir el valor medio de las viviendas ocupadas por sus propietarios en miles de dólares (`MEDV`) a partir del conjunto de variables predictoras.\n",
        "\n",
        "**Características del banco de datos**:\n",
        "\n",
        "* Variable respuesta: `MEDV`\n",
        "* Tipo de variable respuesta: numérica\n",
        "* Tipo de problema que se quiere resolver: regresión\n",
        "* Valores perdidos: no\n",
        "* Número de registros: 506\n",
        "* Número de variables: 14\n",
        "\n",
        "\n",
        "**Variables contenidas**:\n",
        "* **CRIM**: tasa de criminalidad per cápita por ciudad.\n",
        "* **ZN**: proporción de terreno residencial zonificado para lotes de más de 25,000 pies cuadrados.\n",
        "* **INDUS**: proporción de acres comerciales no minoristas por ciudad.\n",
        "* **CHAS**: variable ficticia del río Charles (1 si el tramo limita con el río; 0 en caso contrario)\n",
        "* **NOX**: concentración de óxidos nítricos (partes por 10 millones)\n",
        "* **RM**: número promedio de cuartos por vivienda.\n",
        "* **AGE**: proporción de unidades ocupadas por propietarios construidas antes de 1940.\n",
        "* **DIS**: distancias ponderadas a cinco centros de empleo de Boston.\n",
        "* **RAD**: índice de accesibilidad a las carreteras radiales.\n",
        "* **TAX**: tasa de impuestos sobre la propiedad de valor total por cada $10,000.\n",
        "* **PTRATIO**: ratio alumno-profesor por localidad.\n",
        "* **B**: 1000(Bk - 0.63)^2 donde Bk es la proporción de negros por ciudad.\n",
        "* **LSTAT**: % posición más baja de la población.\n",
        "\n",
        "\n",
        "**Referencias bibliográficas**:\n",
        "\n",
        "* Harrison Jr, David, and Daniel L. Rubinfeld. “Hedonic housing prices and the demand for clean air.” Journal of environmental economics and management 5.1 (1978): 81-102.\n",
        "* Kaggle: https://www.kaggle.com/code/prasadperera/the-boston-housing-dataset/data\n",
        "\n",
        "\n",
        "**Ficheros carga**:\n",
        "\n",
        "* Original: [enlace](https://raw.githubusercontent.com/ia4legos/MachineLearning/main/data/housing.csv)\n",
        "* Preprocesado: [enlace](https://raw.githubusercontent.com/ia4legos/MachineLearning/main/data/housing_clean.csv)"
      ],
      "metadata": {
        "id": "vznO8l8j8KpR"
      }
    },
    {
      "cell_type": "markdown",
      "source": [
        "**Cuadernos en los que se analiza**:\n",
        "* [50 - Modelos lineales de regresión para respuesta cuantitativa I](https://colab.research.google.com/drive/1YlhpoxVklCjXzlGwiMMHjFlVUT2cl6CZ?authuser=4)\n",
        "* [60 - Modelos lineales de regresión para respuesta cuantitativa II](https://colab.research.google.com/drive/1OJ9UFpnlQr0Xfjmeszxs3C3m2kNga_Ru?authuser=4)\n",
        "* [61 - Modelos lineales de regresión para respuesta cuantitativa III](https://colab.research.google.com/drive/10Xqn3y-KhcHedMn400e1MDocFmtFnmVy?authuser=4)"
      ],
      "metadata": {
        "id": "rCG5b6oUS7Y5"
      }
    },
    {
      "cell_type": "markdown",
      "source": [
        "# <font color=\"steelblue\">HousingCA</font>"
      ],
      "metadata": {
        "id": "lPGjlzka8fOL"
      }
    },
    {
      "cell_type": "markdown",
      "source": [
        "En este ejemplo vamos a utilizar la base de datos `HousingCA`, que recoge la información sobre el censo viviendas de California en el año 1990. Se está interesado en predecir el valor medio de la vivienda (`median_house_value`) medido en dólares americanos en función de las predictoras.\n",
        "\n",
        "\n",
        "**Características del banco de datos**:\n",
        "\n",
        "* Variable respuesta: `median_house_value`\n",
        "* Tipo de variable respuesta: numérica\n",
        "* Tipo de problema que se quiere resolver: regresión\n",
        "* Valores perdidos: sí\n",
        "* Número de registros: 20640\n",
        "* Número de variables: 10\n",
        "\n",
        "\n",
        "\n",
        "**Variables contenidas**:\n",
        "\n",
        "* **median_house_value**: valor medio de la vivienda en dólares.\n",
        "* **longitude**: medida de la distancia al oeste de una casa; un valor más alto es más al oeste.\n",
        "* **latitude**: medida de la distancia al norte de una casa; un valor más alto es más al norte.\n",
        "* **housing_median_age**: mediana de edad de una vivienda dentro de una manzana; un número más bajo es un edificio más nuevo (en años)\n",
        "* **total_rooms**: número total de habitaciones dentro de un bloque.\n",
        "* **total_bedrooms**: número total de dormitorios dentro de un bloque.\n",
        "* **population**: Número total de personas que residen en un bloque.\n",
        "* **households**: Número total de hogares, grupo de personas que residen en una unidad de vivienda, para un bloque.\n",
        "* **median_income**: Ingreso medio de los hogares dentro de un bloque de casas (medido en decenas de miles de dólares estadounidenses)\n",
        "* **oceanProximity**: Ubicación de la casa con respecto al océano/mar (`<1H OCEAN`, `INLAND`, `ISLAND`, `NEAR BAY`, `NEAR OCEAN`).\n",
        "\n",
        "\n",
        "**Referencias bibliográficas**:\n",
        "\n",
        "* Pace, R. Kelley and Ronald Barry, Sparse Spatial Autoregressions, Statistics and Probability Letters, 33 (1997) 291-297\n",
        "* Kaggle: [enlace](https://www.kaggle.com/datasets/camnugent/california-housing-prices)\n",
        "\n",
        "\n",
        "**Ficheros carga**:\n",
        "\n",
        "* Original: [enlace](https://raw.githubusercontent.com/ia4legos/MachineLearning/main/data/housing.csv)\n",
        "* Preprocesado: [enlace](https://raw.githubusercontent.com/ia4legos/MachineLearning/main/data/housingCA_clean.csv)"
      ],
      "metadata": {
        "id": "FJhHGfh68cNd"
      }
    },
    {
      "cell_type": "markdown",
      "source": [
        "**Cuadernos en los que se analiza**:\n",
        "* [50 - Modelos lineales de regresión para respuesta cuantitativa I](https://colab.research.google.com/drive/1YlhpoxVklCjXzlGwiMMHjFlVUT2cl6CZ?authuser=4)\n",
        "* [130 - Máquinas de vector soporte no lineales](https://colab.research.google.com/drive/14p4gMOc43BPSXncWl2Kyr0JSppsqTnSc?authuser=4)\n",
        "* [150 - Árboles de decisión para problemas de regresión](https://colab.research.google.com/drive/10sXsfO1DjF-45YL9zXn_xb4YrlJYBTg7?authuser=4)\n",
        "* [170 - Bosques aleatorios (Random Forest)](https://colab.research.google.com/drive/19TBrsm1G4KmUS98Qzeo8sCDTiUuoRULz?authuser=4)\n",
        "* [200 - Componentes principales](https://colab.research.google.com/drive/13bxzkkGincCG29-yZNq70Gj4XJRUHPi-?authuser=4#scrollTo=-7whhErFzY9J)"
      ],
      "metadata": {
        "id": "8yZzgQNSTPMd"
      }
    },
    {
      "cell_type": "markdown",
      "source": [
        "# <font color=\"steelblue\">Iris</font>"
      ],
      "metadata": {
        "id": "MTk6Et9-kvI5"
      }
    },
    {
      "cell_type": "markdown",
      "source": [
        "La base de datos iris consta de 50 muestras de cada una de las tres especies de Iris: Iris Setosa, Iris virginica e Iris versicolor. Se escogieron cuatro características de cada muestra: la longitud y el ancho de los sépalos y pétalos, en centímetros. El objetivo que se persigue es predecir la clase de especie (`species`) que es en función de sus características. \n",
        "\n",
        "**Características del banco de datos**:\n",
        "\n",
        "* Variable respuesta: `species`\n",
        "* Tipo de variable respuesta: categórica\n",
        "* Tipo de problema que se quiere resolver: clasificación\n",
        "* Valores perdidos: no\n",
        "* Número de registros: 150\n",
        "* Número de variables: 5\n",
        "\n",
        "\n",
        "**Variables contenidas**:\n",
        "* **sepal_length**: longitud del sépalo (en cm)\n",
        "* **sepal_width**: anchura del sépalo (en cm)\n",
        "* **petal_length**: longitud del pétalo (en cm)\n",
        "* **petal_width**: anchura del pétalo (en cm)\n",
        "* **species**: especie de la flor (Iris Setosa, Iris virginica e Iris versicolor)\n",
        "\n",
        "\n",
        "**Referencias bibliográficas**:\n",
        "* Kaggle: [enlace](https://www.kaggle.com/datasets/uciml/iris)\n",
        "\n",
        "\n",
        "**Ficheros carga**:\n",
        "\n",
        "* Original: [enlace](https://raw.githubusercontent.com/ia4legos/MachineLearning/main/data/IRIS.csv)\n",
        "* Preprocesado: [enlace](https://raw.githubusercontent.com/ia4legos/MachineLearning/main/data/iris_clean.csv)\n",
        "\n",
        "\n",
        "\n",
        "\n",
        "\n",
        "\n",
        "Consultar https://scikit-learn.org/stable/datasets/toy_dataset.html#iris-dataset"
      ],
      "metadata": {
        "id": "aop3TQZGkxIa"
      }
    },
    {
      "cell_type": "markdown",
      "source": [
        "**Cuadernos en los que se analiza**:\n",
        "* [80 - Modelos de regresión logística multinomial](https://colab.research.google.com/drive/1BXX6DVKlO6qxxsiaqQtsbo34Zptd7ANS?authuser=4)\n",
        "* [120 - Introducción a las máquinas de vector soporte](https://colab.research.google.com/drive/1z57UT4eT9G4uYbqwfeTSaHQJiZ2fA16Q?authuser=4)\n",
        "* [130 - Máquinas de vector soporte no lineales](https://colab.research.google.com/drive/14p4gMOc43BPSXncWl2Kyr0JSppsqTnSc?authuser=4)\n",
        "* [220 - Análisis Discriminante](https://colab.research.google.com/drive/1gfk6YMIykY6XiU7JmkyNogmUVdE5u5rM?authuser=4)\n",
        "* [230 - Modelos avanzados de análisis discriminante](https://colab.research.google.com/drive/1vHXF_jhIh5qNmp7BypmIZHJKwqAKNJJ3?authuser=4)\n",
        "* [Modelos de agrupación: Algoritmos de partición](https://colab.research.google.com/drive/15dIMPEiAesEwljEC2mgKhRBRwXlbTCdP?authuser=4)"
      ],
      "metadata": {
        "id": "R5vFP198alJ3"
      }
    },
    {
      "cell_type": "markdown",
      "source": [
        "# <font color=\"steelblue\">Meat spec </font>"
      ],
      "metadata": {
        "id": "eY145azJW0-s"
      }
    },
    {
      "cell_type": "markdown",
      "source": [
        "El departamento de calidad de una empresa de alimentación se encarga de medir el contenido en grasa de la carne que comercializa. Este estudio se realiza mediante técnicas de analítica química, un proceso relativamente costoso en tiempo y recursos. Una alternativa que permitiría reducir costes y optimizar tiempo es emplear un espectrofotómetro (instrumento capaz de detectar la absorbancia que tiene un material a diferentes tipos de luz en función de sus características) e inferir el contenido en grasa a partir de sus medidas. Por lo tanto, el objetivo que se persigue es predecir el contenido en grasa (`fat`) a partir de los valores dados por el espectrofotómetro.\n",
        "\n",
        "\n",
        "**Características del banco de datos**:\n",
        "\n",
        "* Variable respuesta: `fat`\n",
        "* Tipo de variable respuesta: numérica\n",
        "* Tipo de problema que se quiere resolver: regresión\n",
        "* Valores perdidos: no\n",
        "* Número de registros: 215\n",
        "* Número de variables: 101\n",
        "\n",
        "\n",
        "**Variables contenidas**:\n",
        "\n",
        "* **Variables desde *V1* hasta *V100***: cada una de las variables hace referencia al valor de la muestra para una longitud de onda específica.\n",
        "* **fat**: contenido en grasa de la carne (en gramos)\n",
        "\n",
        "\n",
        "**Ficheros carga**:\n",
        "\n",
        "* Original: [enlace](https://raw.githubusercontent.com/ia4legos/MachineLearning/main/data/meatspec.csv)\n",
        "* Preprocesado: [enlace](https://raw.githubusercontent.com/ia4legos/MachineLearning/main/data/meatspec_clean.csv)"
      ],
      "metadata": {
        "id": "70Kqx5XJWxxe"
      }
    },
    {
      "cell_type": "markdown",
      "source": [
        "**Cuadernos en los que se analiza**:\n",
        "* [61 - Modelos lineales de regresión para respuesta cuantitativa III](https://colab.research.google.com/drive/10Xqn3y-KhcHedMn400e1MDocFmtFnmVy?authuser=4)\n",
        "* [110 - Algoritmo K-NN para problemas de clasificación y regresión](https://colab.research.google.com/drive/1_4DAPuMmgVIbENdfr2_rcBebAgbQFFxb?authuser=4)\n",
        "* [150 - Árboles de decisión para problemas de regresión](https://colab.research.google.com/drive/10sXsfO1DjF-45YL9zXn_xb4YrlJYBTg7?authuser=4)\n",
        "* [170 - Bosques aleatorios (Random Forest)](https://colab.research.google.com/drive/19TBrsm1G4KmUS98Qzeo8sCDTiUuoRULz?authuser=4)\n",
        "* [200 - Componentes principales](https://colab.research.google.com/drive/13bxzkkGincCG29-yZNq70Gj4XJRUHPi-?authuser=4#scrollTo=-7whhErFzY9J)"
      ],
      "metadata": {
        "id": "FDPThCbNafTU"
      }
    },
    {
      "cell_type": "markdown",
      "source": [
        "# <font color=\"steelblue\">Mushroom classification</font>"
      ],
      "metadata": {
        "id": "oGLKRXKl1A7U"
      }
    },
    {
      "cell_type": "markdown",
      "source": [
        "La \"caza de setas\" (también conocida como \"shrooming\" en inglés) está disfrutando de nuevos picos de popularidad. Conocer qué características significan una muerte segura y cuáles son más apetecibles es un aspecto muy importante en este proceso. El conjunto de datos `Mushrooms` muestra las características de una muestra muy extensa de diferentes tipos de setas. En concreto se incluyen descripciones de 23 especies de setas con agallas de la familia *Agaricus* y *Lepiota*, extraídas de *The Audubon Society Field Guide to North American Mushrooms* (1981). Cada especie se identifica como: \"definitivamente comestible\", \"definitivamente venenosa\", o \"de comestibilidad desconocida y no recomendada\". Esta última clase se combinó con la venenosa.\n",
        "\n",
        "**Características del banco de datos**:\n",
        "* Variable respuesta: `class`\n",
        "* Tipo de variable respuesta: categórica\n",
        "* Tipo de problema que se quiere resolver: clasificación\n",
        "* Valores perdidos: no\n",
        "* Número de registros: 8124\n",
        "* Número de variables: 23\n",
        "\n",
        "\n",
        "**Variables contenidas**:\n",
        "* **class**: clase de seta (\"e\" = comestible, \"p\" = venenosa)\n",
        "* **cap-shape**: forma del sombrero (\"b\" = campana, \"c\" = cónica, \"x\" = convexa, \"f\"= plana, \"k\" = nudosa, \"s\" = hundida)\n",
        "* **cap-surface**: superficie del sombrero (\"f\" = fibrosa, \"g\" = surcos, \"y\" = escamosa, \"s\" = lisa) \n",
        "* **cap-color**: color del sombrero (\"n\" = marrón, \"b\" = beige, \"c\" = canela, \"g\" = gris, \"r\" = verde, \"p\" = rosa, \"u\" = morado, \"r\" = rojo, \"w\" = blanco y \"y\" = amarillo)\n",
        "* **bruises**: cicatrices (\"t\" = con rasguños y \"f\" = sin rasguños)\n",
        "* **odor**: olor (\"a\" = almendra, \"l\" = anís, \"c\" = creosota, \"y\" = pescado, \"f\" = asqueroso, \"m\" = mohoso, \"n\" = ninguno, \"p\" = acre= y \"s\" =  especiado)\n",
        "* **gill-attachment**: accesorio branquial (\"a\" = adjunto, \"d\" = descendente, \"f\" = libre y \"m\" = con muescas)\n",
        "* **gill-spacing**: espacio entre branquias(\"c\" = cerca, \"w\" = abarrotado y \"d\" = distante)\n",
        "* **gill-size**: tamaño branquial (\"b\" = ancho y \"n\" =  estrecho)\n",
        "* **gill-color**: color de las branquias (\"k\" = negro, \"n\" = marrón, \"b\" = beige, \"h\" = chocolate, \"g\" = gris, \"r\" = verde, \"o\" = naranja, \"p\" = rosa, \"u\" = morado, \"r\" = rojo, \"w\" = blanco y \"y\" = amarillo)\n",
        "* **stalk-shape**: forma de tallo (\"e\" = agrandando y \"t\" = disminuyendo)\n",
        "* **stalk-root**: raíz del tallo (\"b\" = bulboso, \"c\" = club,\"u\" = copa, \"e\" = igual, \"z\" = rizomorfos y \"r\" = enraizado)\n",
        "* **stalk-surface-above-ring**: superficie del tallo sobre el anillo (\"f\" = fibrosa, \"y\" = escamosa, \"k\" = sedosa y \"s\" = lisa)\n",
        "* **stalk-surface-below-ring**: superficie del tallo debajo del anillo (\"f\" = fibrosa, \"y\" = escamosa, \"k\" = sedosa y \"s\" = lisa)\n",
        "* **stalk-color-above-ring**: color del tallo sobre el anillo (\"n\" = marrón, \"b\" = beige, \"c\" = canela, \"g\" = gris, \"o\" = naranja, \"p\" = rosa, \"r\" = rojo, \"w\" = blanco y \"y\" = amarillo)\n",
        "* **stalk-color-below-ring**: color del tallo debajo del anillo (\"n\" = marrón, \"b\" = beige, \"c\" = canela, \"g\" = gris, \"o\" = naranja, \"p\" = rosa, \"r\" = rojo, \"w\" = blanco y \"y\" = amarillo)\n",
        "* **veil-type**: tipo de velo (\"p\" = parcial y \"u\" = universal)\n",
        "* **veil-color**: color del velo (\"n\" = marrón, \"o\" = naranja, \"w\" = blanco y \"y\" = amarillo)\n",
        "* **ring-number**: número de anillos (\"n\" = ninguno, \"o\" = uno  y \"t\" = dos)\n",
        "* **ring-type**: tipo de anillo (\"c\" = telaraña, \"e\" = evanescente, \"f\" = resplandeciente, \"l\" = grande, \"n\" = ninguno, \"p\" = colgante, \"s\" = revestimiento y \"z\" = zona)\n",
        "* **spore-print-color**: color de impresión de esporas (\"k\" = negro, \"n\" = marrón, \"b\" = beige, \"h\" = chocolate, \"r\" = verde, \"o\" = naranja, \"u\" = morado, \"w\" = blanco y \"y\" = amarillo)\n",
        "* **population**: población (\"a\" = abundante, \"c\" = agrupada, \"n\" = numerosa, \"s\" = dispersa, \"v\" = varia y \"y\" = solitaria)\n",
        "* **habitat**: hábitat (\"g\" = pastos, \"l\" = hojas, \"m\" = prados, \"p\" = caminos, \"u\" = urbano, \"w\" = desechos y \"d\" = bosques)\n",
        "\n",
        "\n",
        "**Referencias bibliográficas**:\n",
        "\n",
        "* Mushroom records drawn from The Audubon Society Field Guide to North American Mushrooms (1981). G. H. Lincoff (Pres.), New York: Alfred A. Knopf.\n",
        "* UCI Machine learning repository: https://archive.ics.uci.edu/ml/datasets/mushroom\n",
        "\n",
        "\n",
        "**Ficheros carga**:\n",
        "\n",
        "* Original: [enlace](https://raw.githubusercontent.com/ia4legos/MachineLearning/main/data/mushrooms.csv)"
      ],
      "metadata": {
        "id": "-6as7pA9NZpr"
      }
    },
    {
      "cell_type": "markdown",
      "source": [
        "**Cuadernos en los que se analiza**:\n",
        "* [30 - Primeros pasos con Scikit-Learn I](https://colab.research.google.com/drive/1aiVZtm6vSPqxNCOmBzfQnfrHGdol-Ykj?authuser=4#scrollTo=vGzIW5HenMtX) "
      ],
      "metadata": {
        "id": "eQHBMGNbRKd1"
      }
    },
    {
      "cell_type": "markdown",
      "source": [
        "# <font color=\"steelblue\">Olivetti faces</font>"
      ],
      "metadata": {
        "id": "9BkbDXsiYpn1"
      }
    },
    {
      "cell_type": "markdown",
      "source": [
        "Este conjunto de datos es una colección de imágenes JPEG de personajes famosos recopiladas en Internet, todos los detalles están disponibles en el sitio web oficial:\n",
        "\n",
        "http://vis-www.cs.umass.edu/lfw/\n",
        "\n",
        "Cada imagen se centra en un solo rostro. La tarea típica se denomina Verificación de caras: dado un par de fotos, un clasificador binario debe predecir si las dos imágenes son de la misma persona.\n",
        "\n",
        "Una tarea alternativa, el Reconocimiento de caras o la Identificación de caras es: dada la imagen de la cara de una persona desconocida, identificar el nombre de la persona haciendo referencia a una galería de imágenes previamente vistas de personas identificadas.\n",
        "\n",
        "Tanto la verificación como el reconocimiento de rostros son tareas que suelen realizarse a partir de los resultados de un modelo entrenado para realizar la detección de rostros. \n",
        "\n",
        "**Características del banco de datos**:\n",
        "\n",
        "* Tipo de problema que se quiere resolver: clasificación\n",
        "* Valores perdidos: no\n",
        "* Número de registros: 13233\n",
        "* Número de variables: 5828\n",
        "\n",
        "\n",
        "**Referencias bibliográficas**:\n",
        "\n",
        "* Labeled Faces in the Wild: A Database for Studying Face Recognition in Unconstrained Environments. Gary B. Huang, Manu Ramesh, Tamara Berg, and Erik Learned-Miller. University of Massachusetts, Amherst, Technical Report 07-49, October, 2007.\n",
        "\n",
        "\n",
        "**Ficheros carga**:\n",
        "\n",
        "* Los dos bancos de datos vinculados a este conjunto se pueden cargar directamente desde scikit-learn:\n",
        "  *  `sklearn.datasets.fetch_lfw_people`\n",
        "  * `sklearn.datasets.fetch_lfw_pairs`"
      ],
      "metadata": {
        "id": "wSlttaLqYufc"
      }
    },
    {
      "cell_type": "markdown",
      "source": [
        "**Cuadernos en los que se analiza**:\n",
        "* [200 - Componentes principales](https://colab.research.google.com/drive/13bxzkkGincCG29-yZNq70Gj4XJRUHPi-?authuser=4#scrollTo=-7whhErFzY9J)\n",
        "* [240-Métodos de escalado multidimensional (MDS)](https://colab.research.google.com/drive/1ojc_QCISR3AA5AQaZ45DNlnQMLZjy9dz?authuser=4#scrollTo=-7whhErFzY9J)\n",
        "* [250-Métodos avanzados de escalado multidimensional](https://colab.research.google.com/drive/18VbkDku0bf33dqNov-PQtZxg95cBL1QQ?authuser=4)"
      ],
      "metadata": {
        "id": "Iq-UGK42ahYo"
      }
    },
    {
      "cell_type": "markdown",
      "source": [
        "# <font color=\"steelblue\">Penguins</font>"
      ],
      "metadata": {
        "id": "OgU2lzt81VLT"
      }
    },
    {
      "cell_type": "markdown",
      "source": [
        "``Penguins`` es un banco de datos de la librería `Seaborn` que contiene las mediciones de tamaño, observaciones de nidadas y proporciones de isótopos en sangre de 344 pingüinos adultos de Adelia, Barbijo y Papúa. Estos han sido observados en islas del archipiélago Palmer cerca de la estación Palmer en la Antártida. Los datos fueron recogidos y puestos a disposición por la Dra. Kristen Gorman y el Programa de Investigación Ecológica a Largo Plazo (LTER) de la Estación Palmer, Antártida.\n",
        "\n",
        "**Características del banco de datos**:\n",
        "* Variable respuesta: `flipper_length_mm`\n",
        "* Tipo de variable respuesta: numérica\n",
        "* Tipo de problema que se quiere resolver: regresión\n",
        "* Valores perdidos: no\n",
        "* Número de registros: 344\n",
        "* Número de variables: 7\n",
        "\n",
        "\n",
        "\n",
        "**Variables contenidas**:\n",
        "* **species**: especie de pingüino (Adélie, Chinstrap y Gentoo)\n",
        "* **island**: isla en el Archipiélago Palmer, Antártida (Biscoe, Dream o Torgersen)\n",
        "* **bill_length_mm**: longitud del pico (en milímetros)\n",
        "* **bill_depth_mm**: profundidad del pico (en milímetros)\n",
        "* **flipper_length_mm**: longitud de la aleta (en milímetros)\n",
        "* **body_mass_g**: masa corporal (en gramos)\n",
        "* **sex**: sexo del pingüino (hembra, macho)\n",
        "\n",
        "\n",
        "**Referencias bibliográficas**:\n",
        "\n",
        "* Data were collected and made available by Dr. Kristen Gorman and the Palmer Station, Antarctica LTER, a member of the Long Term Ecological Research Network.\n",
        "* Kaggle: https://www.kaggle.com/datasets/larsen0966/penguins\n",
        "\n",
        "\n",
        "**Ficheros carga**:\n",
        "\n",
        "* Desde librería seaborn fichero \"penguins\"."
      ],
      "metadata": {
        "id": "5Z6Saj3k2UlX"
      }
    },
    {
      "cell_type": "markdown",
      "source": [
        "**Cuadernos en los que se analiza**:\n",
        "* [40 - Primeros pasos con Scikit-Learn II](https://colab.research.google.com/drive/14izQbel0eo9Ae04Fjb9lh5XYWS0LlVtf?authuser=4)"
      ],
      "metadata": {
        "id": "mKVx210KS5kM"
      }
    },
    {
      "cell_type": "markdown",
      "source": [
        "# <font color=\"steelblue\">Sales</font>"
      ],
      "metadata": {
        "id": "JDnCzAtMcKQ4"
      }
    },
    {
      "cell_type": "markdown",
      "source": [
        "Contiene las cantidades compradas semanalmente de 800 productos a lo largo de 52 semanas. Todos los atributos son numéricos sin valores perdidos y van identificados mediante W(número de la semana).\n",
        "\n",
        "**Características del banco de datos**:\n",
        "* Tipo de problema que se quiere resolver: agrupación\n",
        "* Valores perdidos: sí (en casi todas las variables)\n",
        "* Número de registros: 527\n",
        "* Número de variables: 38\n",
        "\n",
        "**Variables contenidas**:\n",
        "* **Variables desde *W0* hasta *W51***: cada una de las variables hace referencia a las cantidades compradas semanalmente.\n",
        "\n",
        "**Referencias bibliográficas**:\n",
        "\n",
        "* Tan, Swee Chuan and San Lau, Jess Pei (2014). Time series clustering: A superior alternative for market basket analysis. Proceedings of the First International Conference on Advanced Data and Information Engineering (DaEng-2013), 241--248. Springer. \n",
        "\n",
        "**Ficheros carga**:\n",
        "* Original: [enlace]('https://raw.githubusercontent.com/ia4legos/MachineLearning/main/data/Sales_Transactions_Weekly.csv')\n"
      ],
      "metadata": {
        "id": "qqzdr3wIcU4C"
      }
    },
    {
      "cell_type": "markdown",
      "source": [
        "**Cuadernos en los que se analiza**:\n",
        "* [240-Métodos de escalado multidimensional (MDS)](https://colab.research.google.com/drive/1ojc_QCISR3AA5AQaZ45DNlnQMLZjy9dz?authuser=4#scrollTo=-7whhErFzY9J)\n",
        "* [250-Métodos avanzados de escalado multidimensional](https://colab.research.google.com/drive/18VbkDku0bf33dqNov-PQtZxg95cBL1QQ?authuser=4)\n",
        "* [Modelos de agrupación: Introducción y Clusters jerárquicos](https://colab.research.google.com/drive/1M24t7ZQoEtWkMMkJJFZKq_WO5ZluySy0?authuser=4)"
      ],
      "metadata": {
        "id": "Cby-6VoOdk6N"
      }
    },
    {
      "cell_type": "markdown",
      "source": [
        "# <font color=\"steelblue\">Spam</font>"
      ],
      "metadata": {
        "id": "f5PvXAsidMBR"
      }
    },
    {
      "cell_type": "markdown",
      "source": [
        "La base de datos trata sobre la detección de spam en una bandeja de entrada de correo electrónico. El banco de datos dispone de dos variables donde la primera es el texto del mail, y la segunda el indicador que nos dice si el correo se ha clasificado como spam o no spam de forma manual. \n",
        "\n",
        "\n",
        "**Características del banco de datos**:\n",
        "\n",
        "* Variable respuesta: `label`\n",
        "* Tipo de variable respuesta: categórica (binaria)\n",
        "* Tipo de problema que se quiere resolver: clasificación\n",
        "* Valores perdidos: sí (variable email)\n",
        "* Número de registros: 3000\n",
        "* Número de variables: 2\n",
        "\n",
        "\n",
        "**Variables contenidas**:\n",
        "\n",
        "* **label**: etiqueta que indica si es spam o no (0 = no spam, 1 = spam)\n",
        "* **email**: contenido del correo electrónico.\n",
        "\n",
        "\n",
        "**Referencias bibliográficas**:\n",
        "* Kaggle: [enlace](https://www.kaggle.com/code/mukulkirti/naive-bayes-theorem/data?select=spam_or_not_spam.csv)\n",
        "\n",
        "\n",
        "**Ficheros carga**:\n",
        "\n",
        "* Original: [enlace](https://raw.githubusercontent.com/ia4legos/MachineLearning/main/data/spam_or_not_spam.csv)"
      ],
      "metadata": {
        "id": "RGRNMQFvdJSc"
      }
    },
    {
      "cell_type": "markdown",
      "source": [
        "**Cuadernos en los que se analiza**:\n",
        "* [90 - Clasificador Naïve Bayes para dos grupos](https://colab.research.google.com/drive/1CPffo-FW9r6clHW09DxI5u2kYqrg10e0?authuser=4)"
      ],
      "metadata": {
        "id": "LVn4sNVcapaV"
      }
    },
    {
      "cell_type": "markdown",
      "source": [
        "# <font color=\"steelblue\">Stroke Prediction Dataset</font>"
      ],
      "metadata": {
        "id": "dfuH8Gkq0x61"
      }
    },
    {
      "cell_type": "markdown",
      "source": [
        "Según la Organización Mundial de la Salud (OMS), el ictus es la segunda causa de muerte en el mundo, responsable de aproximadamente el 11% del total de fallecimientos. El banco de datos `Stroke` se utiliza para predecir si es probable que un paciente sufra un ictus en función de los parámetros de entrada como el sexo, la edad, diversas enfermedades y estatus de fumador. Cada fila de los datos proporciona información relevante sobre el paciente.\n",
        "\n",
        "**Características del banco de datos**:\n",
        "* Variable respuesta: `stroke`\n",
        "* Tipo de variable respuesta: categórica\n",
        "* Tipo de problema que se quiere resolver: clasificación\n",
        "* Valores perdidos: sí (en la variable `bmi`)\n",
        "* Número de registros: 5110\n",
        "* Número de variables: 12\n",
        "\n",
        "**Variables contenidas**:\n",
        "* **id**: identificador único del sujeto\n",
        "* **gender**: sexo (\"Male\" = masculino, \"Female\" = femenino y \"Other\" = otro)\n",
        "* **age**: edad del paciente (en años)\n",
        "* **hypertension**: el paciente tiene hipertensión (\"Yes\" = sí y \"No\")\n",
        "* **heart_disease**:  el paciente tiene una enfermedad del corazón (\"Yes\" = sí y \"No\")\n",
        "* **ever_married**:  el paciente se ha casado alguna vez (\"Yes\" = sí y \"No\")\n",
        "* **work_type**: tipo de trabajo (\"children\" = niños, \"Govt_jov\" = Gubernamental, \"Never_worked\" = nunca ha trabajado, \"Private\" = privado y \"Self-employed\" = autónomo)\n",
        "* **Residence_type**: tipo de residencia (\"Rural\" y \"Urban\" =  urbana)\n",
        "* **avg_glucose_level**: media de glucosa en sangre.\n",
        "* **bmi**: índice de masa corporal.\n",
        "* **smoking_status**: nivel de fumador (\"formerly smoked\" = fumaba, \"never smoked\" = nunca ha fumado, \"smokes\" = fuma y \"Unknown\" = desconocido).\n",
        "* **stroke**: el paciente sufre un ictus (\"Yes\" = sí y \"No\")\n",
        "\n",
        "**Referencias bibliográficas**:\n",
        "\n",
        "* kaggle: https://www.kaggle.com/datasets/fedesoriano/stroke-prediction-dataset\n",
        "\n",
        "**Ficheros carga**:\n",
        "\n",
        "* Original: [enlace](https://raw.githubusercontent.com/ia4legos/MachineLearning/main/data/stroke_ori.csv)\n",
        "\n",
        "* Preprocesado: [enlace](https://raw.githubusercontent.com/ia4legos/MachineLearning/main/data/stroke_clean.csv)\n"
      ],
      "metadata": {
        "id": "E90MMfU80vI9"
      }
    },
    {
      "cell_type": "markdown",
      "source": [
        "**Cuadernos en los que se analiza**:\n",
        "* [30 - Primeros pasos con Scikit-Learn I](https://colab.research.google.com/drive/1aiVZtm6vSPqxNCOmBzfQnfrHGdol-Ykj?authuser=4#scrollTo=vGzIW5HenMtX) \n",
        "* [40 - Primeros pasos con Scikit-Learn II](https://colab.research.google.com/drive/14izQbel0eo9Ae04Fjb9lh5XYWS0LlVtf?authuser=4)\n",
        "* [70 - Modelos de regresión para respuesta cualitativa dicotómica](https://colab.research.google.com/drive/1WsJGCgvYDNVIFDZZjX0DBxXc1dBSS2pm?authuser=4)\n",
        "\n",
        "\n",
        "\n",
        "\n"
      ],
      "metadata": {
        "id": "2zEJpCCoRTdC"
      }
    },
    {
      "cell_type": "markdown",
      "source": [
        "# <font color=\"steelblue\">Student Alcohol Consumption</font>"
      ],
      "metadata": {
        "id": "kED7ggDS1GPF"
      }
    },
    {
      "cell_type": "markdown",
      "source": [
        "Los datos de consumo de alcohol entre adolescentes se obtuvieron en una encuesta realizada a los alumnos de los cursos de matemáticas y lengua portuguesa de enseñanza secundaria. Además de las variables referidas al consumo, en la base de datos `Alcohol` se dipone de mucha información social, de género y de estudio interesante relacionada con los estudiantes. Este banco de datos se puede utilizar para un análisis exploratorio de datos o para intentar predecir la nota final que obtienen.\n",
        "\n",
        "**Características del banco de datos**:\n",
        "* Variable respuesta: `Dalc` o `Walc`\n",
        "* Tipo de variable respuesta: categórica\n",
        "* Tipo de problema que se quiere resolver: clasificación\n",
        "* Valores perdidos: no\n",
        "* Número de registros: 395\n",
        "* Número de variables: 33\n",
        "\n",
        "\n",
        "**Variables contenidas**:\n",
        "* **school**: colegio del estudiante (\"GP\" = Gabriel Pereira o \"MS\" = Mousinho da Silveira)\n",
        "* **sex**: sexo del estudiante (\"Male\" = masculino y \"Female\" = femenino)\n",
        "* **age**: edad del estudiante (en años)\n",
        "* **address**: tipo de domicilio del estudiante (\"U\" = urbano y \"R\" = rural)\n",
        "* **famsize**:  tamaño de la familia (\"LE3\" = menor o igual a 3 y \"GT3\" = mayor que 3)\n",
        "* **Pstatus**:  estado de cohabitación de los padres (\"T\" = viviendo juntos y \"A\" = separados)\n",
        "* **Medu**: educación de la madre (0 = ninguna, 1 = educación primaria (4° grado), 2 = 5° a 9° grado, 3 = educación secundaria y 4 = educación superior)\n",
        "* **Fedu**: educación del padre (0 = ninguna, 1 = educación primaria (4° grado), 2 = 5° a 9° grado, 3 = educación secundaria y 4 = educación superior)\n",
        "* **Mjob**: trabajo de la madre (\"teacher\" = profesora, 'health' = relaacionados con el cuidado de la salud, \"services\" = servicios civiles como administrativo o policía, 'at_home' = en casa y 'other' = otro)\n",
        "* **Fjob**: trabajo del padre (\"teacher\" = profesora, 'health' = relaacionados con el cuidado de la salud, \"services\" = servicios civiles como administrativo o policía, 'at_home' = en casa y \"other\" = otro)\n",
        "* **reason**: motivo para elegir este colegio (\"home\" = cerca de casa, \"reputation\" = reputación de la escuela, \"course\" = preferencia de curso y 'other' = otros)\n",
        "* **guardian**: tutor del estudiante (\"mother\" = madre, \"father\" = padre y \"other\" = otro)\n",
        "* **traveltime**: tiempo de viaje de su casa a la escuela (en horas) \n",
        "* **studytime**: tiempo de estudio semanal (en horas)\n",
        "* **failures**: número de ausencias a clase\n",
        "* **schoolsup**: apoyo educativo adicional (\"Yes\" = sí y \"No\")\n",
        "* **famsup**: apoyo educativo familiar (\"Yes\" = sí y \"No\")\n",
        "* **paid**: clases extra pagadas dentro de la materia del curso (matemáticas o portugués)(\"Yes\" = sí y \"No\")\n",
        "* **activities**: actividades extraescolares (\"Yes\" = sí y \"No\")\n",
        "* **nursery**: escuela de párvulos asistida (\"Yes\" = sí y \"No\")\n",
        "* **higher**: quiere cursar estudios superiores (\"Yes\" = sí y \"No\")\n",
        "* **internet**: tiene acceso a Internet en casa (\"Yes\" = sí y \"No\")\n",
        "* **romantic**: con una relación romántica (\"Yes\" = sí y \"No\")\n",
        "* **famrel**: calidad de las relaciones familiares (de 1 = muy mala a 5 = excelente)\n",
        "* **freetime**: tiempo libre después de la escuela (de 1 = muy bajo a 5 = muy alto)\n",
        "* **goout**: salir con amigos (de 1 = muy bajo a 5 = muy alto)\n",
        "* **Dalc**: consumo de alcohol en jornada laboral (de 1 = muy bajo a 5 = muy alto)\n",
        "* **Walc**: consumo de alcohol en fin de semana (de 1 = muy bajo a 5 = muy alto)\n",
        "* **health**: estado de salud actual (de 1 = muy malo a 5 = muy bueno)\n",
        "* **absences**: número de ausencias escolares.\n",
        "* **G1**: nota del primer período o trimestre (de 0 a 20)\n",
        "* **G2**: nota del segundo período o trimestre (de 0 a 20)\n",
        "* **G3**: nota final (de 0 a 20)\n",
        "\n",
        "**Referencias bibliográficas**:\n",
        "\n",
        "* P. Cortez and A. Silva. Using Data Mining to Predict Secondary School Student Performance. In A. Brito and J. Teixeira Eds., Proceedings of 5th FUture BUsiness TEChnology Conference (FUBUTEC 2008) pp. 5-12, Porto, Portugal, April, 2008, EUROSIS, ISBN 978-9077381-39-7.\n",
        "Available at: [enlace web](http://www3.dsi.uminho.pt/pcortez/student.pdf)\n",
        "* UCI Machine learning repository: https://archive.ics.uci.edu/ml/datasets/student+performance\n",
        "\n",
        "\n",
        "**Ficheros carga**:\n",
        "\n",
        "* Original: [enlace](https://raw.githubusercontent.com/ia4legos/MachineLearning/main/data/student-mat.csv)"
      ],
      "metadata": {
        "id": "YE25WECb1NZ4"
      }
    },
    {
      "cell_type": "markdown",
      "source": [
        "**Cuadernos en los que se analiza**:\n",
        "* [30 - Primeros pasos con Scikit-Learn I](https://colab.research.google.com/drive/1aiVZtm6vSPqxNCOmBzfQnfrHGdol-Ykj?authuser=4#scrollTo=vGzIW5HenMtX) "
      ],
      "metadata": {
        "id": "X_m3mYr9RCfv"
      }
    },
    {
      "cell_type": "markdown",
      "source": [
        "# <font color=\"steelblue\">US economic time series</font>"
      ],
      "metadata": {
        "id": "kqppEi5U-K8N"
      }
    },
    {
      "cell_type": "markdown",
      "source": [
        "Esta base de datos contiene datos de series temporales económicas de EE. UU. El objetivo que se persigue es predecir el desempleo (`unemploy`) dentro la economía de US. El desempleo es una gran preocupación socioeconómica y política para cualquier país y, por lo tanto, gestionarlo es una tarea primordial para todos los gobiernos.\n",
        "\n",
        "**Características del banco de datos**:\n",
        "\n",
        "* Variable respuesta: `unemploy`\n",
        "* Tipo de variable respuesta: numérica\n",
        "* Tipo de problema que se quiere resolver: regresión\n",
        "* Valores perdidos: no\n",
        "* Número de registros: 574\n",
        "* Número de variables: 6\n",
        "\n",
        "\n",
        "**Variables contenidas**:\n",
        "* **date**: mes de recogida de los datos.\n",
        "* **pce**: gastos de consumo personal (en miles de millones de dólares)\n",
        "* **pop**: población total (en miles)\n",
        "* **psavert**: tasa de ahorro personal.\n",
        "* **uempmed**: duración mediana del desempleo (en semanas)\n",
        "* **unemploy**: número de desempleados (en miles)\n",
        "\n",
        "\n",
        "**Referencias bibliográficas**:\n",
        "\n",
        "* Las series de datos se pueden consultar en https://fred.stlouisfed.org/. Mas concretamente:\n",
        "\n",
        "  * pce: https://fred.stlouisfed.org/series/PCE\n",
        "  * pop: https://fred.stlouisfed.org/series/POP\n",
        "  * psavert: https://fred.stlouisfed.org/series/PSAVERT/\n",
        "  * uempmed: https://fred.stlouisfed.org/series/UEMPMED\n",
        "  * unemploy: https://fred.stlouisfed.org/series/UNEMPLOY\n",
        "\n",
        "**Ficheros carga**:\n",
        "\n",
        "* Original: [enlace](https://raw.githubusercontent.com/ia4legos/MachineLearning/main/data/US_economic_time_series.csv)\n"
      ],
      "metadata": {
        "id": "mz7Zc3vB-Owc"
      }
    },
    {
      "cell_type": "markdown",
      "source": [
        "**Cuadernos en los que se analiza**:\n",
        "* [61 - Modelos lineales de regresión para respuesta cuantitativa III](https://colab.research.google.com/drive/10Xqn3y-KhcHedMn400e1MDocFmtFnmVy?authuser=4)"
      ],
      "metadata": {
        "id": "v3Fr3M8naeoE"
      }
    },
    {
      "cell_type": "markdown",
      "source": [
        "# <font color=\"steelblue\">Vehicle Silhouettes</font>"
      ],
      "metadata": {
        "id": "q4ggMsd-0ZRA"
      }
    },
    {
      "cell_type": "markdown",
      "source": [
        "Este conjunto de datos recoge información de cuatro tipos diferentes de vehículos, utilizando un conjunto de características extraídas de su silueta. Para el experimento se utilizaron cuatro vehículos modelo “Corgie”: un bus de dos pisos, una camioneta Cheverolet, un Saab 9000 y un Opel Manta 400. El objetivo del estudio es clasificar una silueta dada como uno de cuatro tipos diferentes de vehículos. Todos los atributos son numéricos discretos salvo la primera variable que lleva el registro de la observación y muchos de ellos contienen valores perdidos.\n",
        "\n",
        "\n",
        "\n",
        "\n",
        "**Características del banco de datos**:\n",
        "\n",
        "* Variable objetivo: `class`\n",
        "* Tipo de variable objetivo: categórica\n",
        "* Tipo de problema que se quiere resolver: clasificación\n",
        "* Valores perdidos: no\n",
        "* Número de registros: 946\n",
        "* Número de variables: 19\n",
        "\n",
        "**Variables contenidas**:\n",
        "\n",
        "* **compactness**: se calcula mediante la fórmula $(perímetro.medio)^2/área$\n",
        "* **circularity**: se calcula mediante la fórmula $(radio. medio)^2/área$\n",
        "* **distance_circularity**: se calcula mediante la fórmula $área/(distancia. media. desde. el. borde)^2$\n",
        "* **radius_ratio**: se calcula mediante la fórmula $(max.rad-min.rad)/av.radius$\n",
        "* **pr.axis_aspect_ratio**: se calcula mediante la fórmula $(eje. menor)/(eje. mayor)$\n",
        "* **max.length_aspect_ratio**: se calcula mediante la fórmula $(longitud. perp. longitud. máxima)/(longitud. máxima)$\n",
        "* **scatter_ratio**: se calcula mediante la fórmula $ (inercia. sobre. el. eje. menor)/(inercia. sobre. el. eje. mayor)$\n",
        "* **elongatedness**: se calcula mediante la fórmula $área/(ancho. de. contracción)^2$\n",
        "* **pr.axis_rectangularity**: se calcula mediante la fórmula $área/(longitud. del. eje. pr. * ancho. del. eje. pr.)$\n",
        "* **max.length_rectangularity**: se calcula mediante la fórmula $área/(long. max. * long. perp.)$\n",
        "* **scaled_variance**: se calcula mediante la fórmula $(momento. de. segundo. orden. sobre. el. eje. menor)/área. a. lo. largo. del. eje. mayor$\n",
        "* **scaled_variance.1**: se calcula mediante la fórmula $(momento. de. segundo. orden. sobre. el. eje. mayor)/área. a. lo. largo. del. eje. menor$\n",
        "* **scaled_radius_of_gyration**: se calcula mediante la fórmula $(mavar+mivar)/área$\n",
        "* **scaled_radius_of_gyration.1**: se calcula mediante la fórmula $(mavar+mivar)/área$\n",
        "* **skewness_about**: se calcula mediante la fórmula $(momento. de. tercer. orden. sobre. el. eje. principal.)/sigma-min^3 * eje. principal$\n",
        "\n",
        "* **skewness_about.1**: se calcula mediante la fórmula (momento. de. tercer. orden. sobre. el. eje. menor.)/sigma-maj^3 * eje. menor$\n",
        "\n",
        "* **skewness_about.2**: se calcula mediante la fórmula (momento. de. tercer. orden. sobre. el. eje. menor.)/sigma-maj^3 * eje. menor$\n",
        "\n",
        "* **hollows_ratio**: se calcula mediante la fórmula $(área. de. huecos)/(área. del. polígono. delimitador)$\n",
        "* **class**: tipo de vehículo (van, saab, bus y opel)\n",
        "\n",
        "\n",
        "**Referencias bibliográficas**:\n",
        "* Turing Institute Research Memorandum TIRM-87-018 \"Vehicle Recognition Using Rule Based Methods\" by Siebert,JP (March 1987)\n",
        "[Web Link].\n",
        "\n",
        "\n",
        "**Ficheros carga**:\n",
        "* Original: [enlace]('https://archive-beta.ics.uci.edu/dataset/149/statlog+vehicle+silhouettes')\n"
      ],
      "metadata": {
        "id": "IxJBPjkA0ug2"
      }
    },
    {
      "cell_type": "markdown",
      "source": [
        "**Cuadernos en los que se analiza**:\n",
        "* [240-Métodos de escalado multidimensional (MDS)](https://colab.research.google.com/drive/1ojc_QCISR3AA5AQaZ45DNlnQMLZjy9dz?authuser=4#scrollTo=-7whhErFzY9J)\n",
        "* [- Aplicaciones conjuntas de técnicas no supervisadas](https://colab.research.google.com/drive/1KXavsD2E8_5bL0tWYvoMAF4FFfNWgaJJ?authuser=4)\n"
      ],
      "metadata": {
        "id": "4jD6iz_f0kLL"
      }
    },
    {
      "cell_type": "markdown",
      "source": [
        "# <font color=\"steelblue\">Water potability</font>"
      ],
      "metadata": {
        "id": "UyHNaWgG71nX"
      }
    },
    {
      "cell_type": "markdown",
      "source": [
        "El agua potable es el derecho humano más básico y un factor importante para la salud. El conjunto de datos `Water potability`, tiene por objetivo estudiar la potabilidad del agua utilizando varias propiedades químicas debido a su importancia como cuestión de salud y desarrollo a nivel nacional, regional y local. En algunas regiones, se ha demostrado que las inversiones en abastecimiento de agua y saneamiento pueden producir un beneficio económico neto, ya que la reducción de los efectos adversos para la salud y los costes de la atención sanitaria superan los costes de las intervenciones.\n",
        "\n",
        "**Características del banco de datos**:\n",
        "\n",
        "* Variable respuesta: `potability`\n",
        "* Tipo de variable respuesta: categórica\n",
        "* Tipo de problema que se quiere resolver: clasificación\n",
        "* Valores perdidos: sí (variables `ph`, `Sulfate` y `Trihalomethanes`)\n",
        "* Número de registros: 3276\n",
        "* Número de variables: 10\n",
        "\n",
        "\n",
        "**Variables contenidas**:\n",
        "* **pH**: valor del pH.\n",
        "* **Hardness**: dureza o capacidad del agua para precipitar el jabón causado por el calcio y el magnesio.\n",
        "* **Solids**: sólidos disueltos totales (en partes por millón)\n",
        "* **Chloramines**: cantidad de cloraminas (en partes por millón)\n",
        "* **Sulfate**: cantidad de sulfatos disueltos (en mg/L)\n",
        "* **Conductivity**: conductividad eléctrica del agua (en μS/cm)\n",
        "* **Organic_carbon**: cantidad de carbono orgánico (en partes por millón)\n",
        "* **Trihalomethanes**: cantidad de trihalometanos (en μg/L)\n",
        "* **Turbidity**: medida de la propiedad de emisión de luz del agua en NTU.\n",
        "* **Potability**: indica si el agua es segura para el consumo humano (1 = potable y 0 = no potable)\n",
        "\n",
        "\n",
        "\n",
        "**Referencias bibliográficas**:\n",
        "\n",
        "* Kaggle: https://www.kaggle.com/datasets/adityakadiwal/water-potability\n",
        "\n",
        "\n",
        "**Ficheros carga**:\n",
        "\n",
        "* Original: [enlace](https://raw.githubusercontent.com/ia4legos/MachineLearning/main/data/water_potability.csv)\n",
        "* Preprocesado: [enlace](https://raw.githubusercontent.com/ia4legos/MachineLearning/main/data/water_clean.csv)"
      ],
      "metadata": {
        "id": "qVkEMuox7ymY"
      }
    },
    {
      "cell_type": "markdown",
      "source": [
        "**Cuadernos en los que se analiza**:\n",
        "* [70 - Modelos de regresión para respuesta cualitativa dicotómica](https://colab.research.google.com/drive/1WsJGCgvYDNVIFDZZjX0DBxXc1dBSS2pm?authuser=4)\n",
        "* [90 - Clasificador Naïve Bayes para dos grupos](https://colab.research.google.com/drive/1CPffo-FW9r6clHW09DxI5u2kYqrg10e0?authuser=4)\n",
        "* [140 - Árboles de decisión para problemas de clasificación](https://colab.research.google.com/drive/1-Uu2nqUeHn3bYz0yCHvqUQbdozMix0qz?authuser=4)\n",
        "* [160 - Introducción a los modelos de conjunto (Ensemble models)](https://colab.research.google.com/drive/14eecAxFm97kSDqjtcSRaU6Mw5SxlJB-N?authuser=4)\n",
        "* [220 - Análisis Discriminante](https://colab.research.google.com/drive/1gfk6YMIykY6XiU7JmkyNogmUVdE5u5rM?authuser=4)\n",
        "* [230 - Modelos avanzados de análisis discriminante](https://colab.research.google.com/drive/1vHXF_jhIh5qNmp7BypmIZHJKwqAKNJJ3?authuser=4)"
      ],
      "metadata": {
        "id": "oZHUmGjMS6ct"
      }
    },
    {
      "cell_type": "markdown",
      "source": [
        "# <font color=\"steelblue\">Water treatment</font>"
      ],
      "metadata": {
        "id": "qCsvozuIGjmW"
      }
    },
    {
      "cell_type": "markdown",
      "source": [
        "Este conjunto de datos procede de las medidas diarias de los sensores de una planta de tratamiento de aguas residuales urbanas. El objetivo es clasificar el estado operativo de la planta para predecir fallos a través de las variables de estado de la planta en cada una de las etapas del proceso de tratamiento. Todos los atributos son numéricos y continuos salvo la primera variable que lleva el registro de la observación y muchos de ellos contienen valores perdidos.\n",
        "\n",
        "**Características del banco de datos**:\n",
        "* Tipo de problema que se quiere resolver: agrupación\n",
        "* Valores perdidos: sí (en casi todas las variables)\n",
        "* Número de registros: 527\n",
        "* Número de variables: 38\n",
        "\n",
        "**Variables contenidas**:\n",
        "\n",
        "* **Q-E**: caudal de entrada a la planta\n",
        "* **ZN-E**: zinc de entrada a la planta \n",
        "* **PH-E**: pH de entrada a la planta\n",
        "* **DBO-E**: demanda biológica de oxígeno de entrada a la planta\n",
        "* **DQO-E**: demanda química de oxígeno de entrada a la planta \n",
        "* **SS-E**: sólidos en suspensión de entrada a la planta \n",
        "* **SSV-E**: entrada de sólidos volátiles en suspensión a la planta \n",
        "* **SED-E**: entrada de sedimentos a la planta \n",
        "* **COND-E**: entrada de conductividad a la planta\n",
        "* **PH-P**: entrada de pH al decantador primario\n",
        "* **DBO-P**: entrada de demanda biológica de oxígeno al decantador primario \n",
        "* **SS- P**: entrada de sólidos en suspensión al decantador primario\n",
        "* **SSV-P**: entrada de sólidos volátiles en suspensión al decantador primario\n",
        "* **SED-P**: entrada de sedimentos al decantador primario \n",
        "* **COND-P**: entrada de conductividad al decantador primario \n",
        "* **PH-D**: entrada de pH al decantador secundario \n",
        "* **DBO-D**: entrada de demanda biológica de oxígeno al decantador secundario \n",
        "* **DQO-D**: entrada de demanda química de oxígeno al decantador secundario \n",
        "* **SS-D**: entrada de sólidos en suspensión al decantador secundario \n",
        "* **SSV-D**: entrada de sólidos volátiles en suspensión al decantador secundario\n",
        "* **SED-D**: entrada de sedimentos al decantador secundario \n",
        "* **COND-D**: entrada de conductividad al decantador secundario \n",
        "* **PH-S**: salida de pH\n",
        "* **DBO-S**: salida de demanda biológica de oxígeno\n",
        "* **DQO-S**: salida de demanda química de oxígeno \n",
        "* **SS-S**: salida de sólidos en suspensión \n",
        "* **SSV-S**: salida de sólidos volátiles en suspensión) \n",
        "* **SED-S**: salida de sedimentos\n",
        "* **COND-S**: salida de conductividad\n",
        "* **RD-DBO-P**: entrada de rendimiento Demanda biológica de oxígeno en el decantador primario\n",
        "* **RD-SS-P**: entrada de rendimiento de sólidos en suspensión en el decantador primario \n",
        "* **RD- SED-P**: rendimiento de entrada de sedimentos al decantador primario \n",
        "* **RD-DBO-S**: rendimiento de entrada de demanda biológica de oxígeno al decantador secundario \n",
        "* **RD-DQO-S**: rendimiento de entrada de demanda química de oxígeno al decantador secundario \n",
        "* **RD-DBO-G**: rendimiento global de entrada de demanda biológica de oxígeno \n",
        "* **RD-DQO-G**: rendimiento global de entrada de demanda química de oxígeno\n",
        "* **RD-SS-G**: rendimiento global de entrada de sólidos en suspensión\n",
        "* **RD-SED-G**: rendimiento global de entrada de sedimentos\n",
        "\n",
        "**Referencias bibliográficas**:\n",
        "\n",
        "* J. De Gracia. ``Avaluacio de tecniques de classificacio per a la gestio de Bioprocessos: Aplicacio a un reactor de fangs activats'' Master Thesis. Dept. de Quimica. Unitat d'Enginyeria Quimica. Universitat Autonoma de Barcelona. Bellaterra (Barcelona). 1993.\n",
        "\n",
        "* J. Bejar, U. Cortés and M. Poch. \"LINNEO+: A Classification Methodology for Ill-structured Domains''. Research report RT-93-10-R. Dept. Llenguatges i Sistemes Informatics. Barcelona. 1993.\n",
        "[Web Link]\n",
        "\n",
        "* Ll. Belanche, U. Cortes and M. Sánchez. \"A knowledge-based system for the diagnosis of waste-water treatment plant''. Proceedings of the 5th international conference of industrial and engineering applications of AI and Expert Systems IEA/AIE-92. Ed Springer-Verlag. Paderborn, Germany, June 92.\n",
        "[Web Link]\n",
        "\n",
        "\n",
        "\n",
        "**Ficheros carga**:\n",
        "\n",
        "* Original: [enlace]('https://raw.githubusercontent.com/ia4legos/MachineLearning/main/data/water-treatment.csv')"
      ],
      "metadata": {
        "id": "tKGKRTV8Gvib"
      }
    },
    {
      "cell_type": "markdown",
      "source": [
        "**Cuadernos en los que se analiza**:\n",
        "* [Modelos de agrupación: Introducción y Clusters jerárquicos](https://colab.research.google.com/drive/1M24t7ZQoEtWkMMkJJFZKq_WO5ZluySy0?authuser=4)"
      ],
      "metadata": {
        "id": "19rMxa8NcN-I"
      }
    },
    {
      "cell_type": "markdown",
      "source": [
        "# <font color=\"steelblue\">Winequality</font>"
      ],
      "metadata": {
        "id": "LcmYAEdy1G97"
      }
    },
    {
      "cell_type": "markdown",
      "source": [
        "El conjunto de datos `Winequality` está relacionado con las variantes rojas del vino portugués \"Vinho Verde\". Debido a cuestiones de privacidad y logística, sólo se dispone de variables fisicoquímicas (entradas) y sensoriales (la salida). Por ejemplo, no hay datos sobre tipos de uva, marca de vino, precio de venta del vino, etc. Las variables provienen de tests psicoquímicos y el objetivo es, mediante las predictoras, establecer la calidad del vino (`quality`), medida en la escala discreta de 0 a 10.\n",
        "\n",
        "\n",
        "**Características del banco de datos**:\n",
        "* Variable respuesta: `quality`\n",
        "* Tipo de variable respuesta: numérica\n",
        "* Tipo de problema que se quiere resolver: clasificación\n",
        "* Valores perdidos: no\n",
        "* Número de registros: 1599\n",
        "* Número de variables: 12\n",
        "\n",
        "\n",
        "**Variables contenidas**:\n",
        "* **fixed acidity**: acidez fija.\n",
        "* **volatile acidity**: acidez volátil.\n",
        "* **citric acid**: acidez cítrica.\n",
        "* **residual sugar**: azúcar residual (cantidad de azúcar que queda después de que se detiene la fermentación)\n",
        "* **chlorides**: cloruros (cantidad de sal en el vino)\n",
        "* **free sulfur dioxide**: dióxido de azufre libre.\n",
        "* **total sulfur dioxide**: dióxido de azufre total.\n",
        "* **density**: densidad.\n",
        "* **pH**: ph.\n",
        "* **sulphates**: sulfatos.\n",
        "* **alcohol**: alcohol (porcentaje de contenido de alcohol del vino)\n",
        "* **quality**: calidad (entre 0 y 10)\n",
        "\n",
        "**Referencias bibliográficas**:\n",
        "\n",
        "* P. Cortez, A. Cerdeira, F. Almeida, T. Matos and J. Reis.\n",
        "Modeling wine preferences by data mining from physicochemical properties. In Decision Support Systems, Elsevier, 47(4):547-553, 2009.\n",
        "* Kaggle: https://www.kaggle.com/datasets/sh6147782/winequalityred\n",
        "\n",
        "\n",
        "**Ficheros carga**:\n",
        "\n",
        "* Original: [enlace](https://raw.githubusercontent.com/ia4legos/MachineLearning/main/data/winequality-red.csv)"
      ],
      "metadata": {
        "id": "2sNOtJ7H1Q8u"
      }
    },
    {
      "cell_type": "markdown",
      "source": [
        "**Cuadernos en los que se analiza**:\n",
        "* [30 - Primeros pasos con Scikit-Learn I](https://colab.research.google.com/drive/1aiVZtm6vSPqxNCOmBzfQnfrHGdol-Ykj?authuser=4#scrollTo=vGzIW5HenMtX) \n",
        "* [40 - Primeros pasos con Scikit-Learn II](https://colab.research.google.com/drive/14izQbel0eo9Ae04Fjb9lh5XYWS0LlVtf?authuser=4)\n",
        "* [80 - Modelos de regresión logística multinomial](https://colab.research.google.com/drive/1BXX6DVKlO6qxxsiaqQtsbo34Zptd7ANS?authuser=4)\n",
        "*[190 - Algoritmos de Boosting para regresión: AdaBoost, Gradient Boosting, XGBoost, y LigthGBM](https://colab.research.google.com/drive/1SlKvlnBYotujFIqY1lnesRrV9sMqFKt7?authuser=4)"
      ],
      "metadata": {
        "id": "m2PgcFUES4hT"
      }
    },
    {
      "cell_type": "markdown",
      "source": [
        "# <font color=\"steelblue\">Wine recognition</font>"
      ],
      "metadata": {
        "id": "rvCpZUUrC_yX"
      }
    },
    {
      "cell_type": "markdown",
      "source": [
        "En este banco de datos se recoge el resultado de un análisis químico de vinos cultivados en la misma región de Italia pero procedentes de tres cultivos distintos. El análisis determinó las cantidades de 13 características que se encuentran en cada una de las muestras de vinos. El objetivo que perseguimos es clasificar cada muestra en una de estas tres clases de vino (`Class label`) en función de sus características de tipo numérico.\n",
        "\n",
        "\n",
        "**Características del banco de datos**:\n",
        "* Variable respuesta: `Class label`\n",
        "* Tipo de variable respuesta: categórica\n",
        "* Tipo de problema que se quiere resolver: clasificación\n",
        "* Valores perdidos: no\n",
        "* Número de registros: 178\n",
        "* Número de variables: 14\n",
        "\n",
        "\n",
        "**Variables contenidas**:\n",
        "\n",
        "* **Class label**: etiqueta que indica el tipo de vino (1, 2 o 3)\n",
        "* **Alcohol**: alcohol\n",
        "* **Malic acid**: ácido málico\n",
        "* **Ash**: ceniza\n",
        "* **Alcalinity of ash**: alcalinidad de la ceniza\n",
        "* **Magnesium**: magnesio\n",
        "* **Total phenols**: fenoles totales\n",
        "* **Flavanoids**: flavonoides\n",
        "* **Nonflavanoid phenols**: fenoles no flavonoides\n",
        "* **Proanthocyanins**: proantocianinas\n",
        "* **Color intensity**: intensidad de color\n",
        "* **Hue**: matiz\n",
        "* **OD280/OD315 of diluted wines**: OD280/OD315 de vinos diluidos\n",
        "* **Proline**: prolina\n",
        "\n",
        "\n",
        "**Referencias bibliográficas**:\n",
        "* Kaggle: [enlace](https://www.kaggle.com/datasets/amirhosseinzinati/wine-recognition-data)\n",
        "\n",
        "\n",
        "**Ficheros carga**:\n",
        "\n",
        "* Original: [enlace]('https://archive.ics.uci.edu/ml/machine-learning-databases/wine/wine.data')\n",
        "* Preprocesado: [enlace](https://raw.githubusercontent.com/ia4legos/MachineLearning/main/data/vinos_clean.csv)"
      ],
      "metadata": {
        "id": "xhiZQqjKDFWE"
      }
    },
    {
      "cell_type": "markdown",
      "source": [
        "**Cuadernos en los que se analiza**:\n",
        "* [80 - Modelos de regresión logística multinomial](https://colab.research.google.com/drive/1BXX6DVKlO6qxxsiaqQtsbo34Zptd7ANS?authuser=4)\n",
        "* [100 - Clasificador Naïve Bayes para múltiples grupos](https://colab.research.google.com/drive/1r-OJ_MHjji9p5fl98A5cwGuYWVR5kDM-?authuser=4)\n",
        "* [200 - Componentes Principales](https://colab.research.google.com/drive/13bxzkkGincCG29-yZNq70Gj4XJRUHPi-?authuser=4)\n",
        "* [210 - Modelos avanzados de componentes principales](https://colab.research.google.com/drive/1COLZ89PACpjbpxHvlkvIwp-Cothc2hrw?authuser=4#scrollTo=-7whhErFzY9J)\n",
        "* [240-Métodos de escalado multidimensional (MDS)](https://colab.research.google.com/drive/1ojc_QCISR3AA5AQaZ45DNlnQMLZjy9dz?authuser=4#scrollTo=-7whhErFzY9J)\n",
        "* [Modelos de agrupación: Algoritmos de partición](https://colab.research.google.com/drive/15dIMPEiAesEwljEC2mgKhRBRwXlbTCdP?authuser=4)"
      ],
      "metadata": {
        "id": "uQvQoNkdeCzV"
      }
    },
    {
      "cell_type": "markdown",
      "source": [
        "# <font color=\"steelblue\">tmdb_movies</font>"
      ],
      "metadata": {
        "id": "OeFI3EqfDBsq"
      }
    },
    {
      "cell_type": "markdown",
      "source": [
        "\n",
        "\n",
        "\n",
        "**Características del banco de datos**:\n",
        "* Variable respuesta: `vote_average`\n",
        "* Tipo de variable respuesta: numérica\n",
        "* Tipo de problema que se quiere resolver: predicción\n",
        "* Valores perdidos: sí\n",
        "* Número de registros: 10866\n",
        "* Número de variables: 21\n",
        "\n",
        "\n",
        "**Variables contenidas**:\n",
        "\n",
        "* **id**: identificador único para cada película.\n",
        "* **imdb_id**: identificador imdb.\n",
        "* **popularity**: cantidad numérica que especifica la popularidad de la película (a mayor valor mayor popularidad).\n",
        "* **budget**: presupuesto con el que se hizo la película.\n",
        "* **revenue**: ingresos mundiales generados por la película.\n",
        "* **original_title**: título original de la película, previo a las traducciones y adaptaciones.\n",
        "* **cast**: nombre de los actores principales y secundarios.\n",
        "* **homepage**: link a la página principal de la película.\n",
        "* **director**: director de la película.\n",
        "* **tagline**: eslogan de la película.\n",
        "* **keywords**: palabras clave.\n",
        "* **overview**: breve descripción de la película.\n",
        "* **runtime**: tiempo de ejecución de la película (en minutos).\n",
        "* **genre**: género de la película.\n",
        "* **production_companies**: casa productora de la película.\n",
        "* **release_date**: fecha en que se lanzó la película.\n",
        "* **vote_count**: conteo de votos recibidos.\n",
        "* **vote_average**: calificación promedio que recibió la película.\n",
        "* **release_year**: año de lanzamiento de la película.\n",
        "* **budget_adj**: muestra el presupuesto de la película (en términos de dólares de 2010).\n",
        "* **revenue_adj**: muestra los ingresos de la película (en términos de dólares de 2010).\n",
        "\n",
        "\n",
        "\n",
        "\n",
        "**Referencias bibliográficas**:\n",
        "* Kaggle: [enlace]()\n",
        "\n",
        "\n",
        "**Ficheros carga**:\n",
        "\n",
        "* Original: [enlace]('https://raw.githubusercontent.com/ia4legos/MachineLearning/main/data/tmdb-movies.csv')"
      ],
      "metadata": {
        "id": "Wish4IKeDAPq"
      }
    },
    {
      "cell_type": "markdown",
      "source": [
        "**Cuadernos en los que se analiza**:\n",
        "* [ - Modelos de recomendación](https://colab.research.google.com/drive/1-N-D2Ht1quDzbvtcNT2CwAN4889b-PBO?authuser=4#scrollTo=PKVtiT_eGXMP)"
      ],
      "metadata": {
        "id": "QmmsHzUaIix2"
      }
    },
    {
      "cell_type": "markdown",
      "source": [
        "# <font color=\"steelblue\">anime ratings</font>"
      ],
      "metadata": {
        "id": "LgQor-YuLd5-"
      }
    },
    {
      "cell_type": "markdown",
      "source": [
        "Este conjunto de datos contiene información sobre las preferencias de los usuarios de diferentes animes. Cada usuario puede agregar el anime a su lista de preferencias y darle una calificación.\n",
        "\n",
        "\n",
        "**Características del banco de datos**:\n",
        "* Variable respuesta: `rating`\n",
        "* Tipo de variable respuesta: numérica\n",
        "* Tipo de problema que se quiere resolver: predicción\n",
        "* Valores perdidos: sí\n",
        "* Número de registros: 12294\n",
        "* Número de variables: 7\n",
        "\n",
        "\n",
        "**Variables contenidas**:\n",
        "\n",
        "* **anime_id**: identificación única de myanimelist.net que identifica un anime.\n",
        "* **name**: nombre completo del anime.\n",
        "* **genre**: lista de géneros separada por comas para el anime.\n",
        "* **type**: película, TV, OVA, etc.\n",
        "* **episodes**: cuántos episodios tiene el programa. (1 si es película).\n",
        "* **rating**: calificación promedio sobre 10 para el anime.\n",
        "* **members**: número de miembros de la comunidad que están en el grupo de este anime.\n",
        "\n",
        "\n",
        "\n",
        "\n",
        "**Referencias bibliográficas**:\n",
        "* Kaggle: [enlace](https://www.kaggle.com/datasets/CooperUnion/anime-recommendations-database)\n",
        "\n",
        "\n",
        "**Ficheros carga**:\n",
        "\n",
        "* Original: [enlace]('https://raw.githubusercontent.com/ia4legos/MachineLearning/main/data/anime.csv')"
      ],
      "metadata": {
        "id": "OZvJsGUrLto7"
      }
    }
  ]
}